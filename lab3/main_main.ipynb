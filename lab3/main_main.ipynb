{
 "cells": [
  {
   "cell_type": "code",
   "execution_count": 1,
   "id": "69e6e014-8045-4619-b395-0a0df67dadd7",
   "metadata": {},
   "outputs": [],
   "source": [
    "import numpy\n",
    "import pandas as pd\n",
    "import random"
   ]
  },
  {
   "cell_type": "code",
   "execution_count": null,
   "id": "0798e428-3d1d-44e1-a641-0507c0b68b52",
   "metadata": {},
   "outputs": [],
   "source": [
    "c = [5, 5, 5, 5, 5, 5, 5, 5, 5, 5, 5]\n",
    "b = [10, 10, 10, 10, 10, 10, 10, 10, 10, 10, 10, 10]\n",
    "a = [5, 5, 5, 5, 5, 5, 5, 5, 5, 5, 5]\n",
    "\n",
    "p = [5, 5, 5, 5, 5, 5, 10, 5, 5, 5, 5, 5]\n",
    "q = [5, 5, 5, 5, 5, 10, 5, 5, 5, 5, 5, 5]\n",
    "\n",
    "x = [1, 1, 1, 1, 1, 1, 1, 1, 1, 1, 1, 1]\n",
    "#k = 5\n",
    "\n",
    "print('c= ', len(c))\n",
    "print('b= ', len(b))\n",
    "print('a= ', len(a))\n",
    "print('---------')\n",
    "print('p= ', len(p))\n",
    "print('q= ', len(q))"
   ]
  },
  {
   "cell_type": "code",
   "execution_count": 3,
   "id": "0e8fa68f-2b4a-483a-8f86-29a3876a032f",
   "metadata": {},
   "outputs": [
    {
     "name": "stdout",
     "output_type": "stream",
     "text": [
      "c=  12\n",
      "b=  13\n",
      "a=  12\n",
      "---------\n",
      "p=  13\n",
      "q=  13\n"
     ]
    }
   ],
   "source": [
    "c = [5, 5, 5, 5, 5, 5, 5, 5, 5, 5, 5, 5]\n",
    "b = [10, 10, 10, 10, 10, 10, 10, 10, 10, 10, 10, 10, 10]\n",
    "a = [5, 5, 5, 5, 5, 5, 5, 5, 5, 5, 5, 5]\n",
    "\n",
    "p = [5, 5, 5, 5, 5, 5, 5, 5, 5, 5, 5, 5, 5]\n",
    "q = [5, 5, 5, 5, 5, 5, 5, 5, 5, 5, 5, 5, 5]\n",
    "\n",
    "x = [1, 1, 1, 1, 1, 1, 1, 1, 1, 1, 1, 1, 1]\n",
    "#k = 5\n",
    "\n",
    "print('c= ', len(c))\n",
    "print('b= ', len(b))\n",
    "print('a= ', len(a))\n",
    "print('---------')\n",
    "print('p= ', len(p))\n",
    "print('q= ', len(q))"
   ]
  },
  {
   "cell_type": "code",
   "execution_count": 5,
   "id": "eaa00f67-98ad-44a5-b1f2-23860b0e84dc",
   "metadata": {},
   "outputs": [],
   "source": [
    "def print_matrix(c, b, a, p, q, k):\n",
    "    matrix = [[0 for i in range(len(b))] for j in range(len(b)) ]\n",
    "    \n",
    "    #побочная главная\n",
    "    for i in range(len(b)):\n",
    "        matrix[i][len(b)-1-i] = b[i]\n",
    "    \n",
    "    #над главной побочной\n",
    "    for i in range(len(c)):\n",
    "        matrix[i][len(c)-1-i] = c[i]\n",
    "    \n",
    "    #под главной побочной\n",
    "    for i in range(1, len(a)):\n",
    "        #print(i, len(a) - i + 1)\n",
    "        matrix[i][len(a) - i + 1] = a[i-1]\n",
    "    matrix[len(a)][1]=a[len(a)-1]\n",
    "        \n",
    "    df = pd.DataFrame(matrix)    \n",
    "    df.iloc[:, k] = p\n",
    "    df.iloc[:, k+1] = q\n",
    "    \n",
    "    \n",
    "    # Выводим DataFrame\n",
    "    print(df)\n"
   ]
  },
  {
   "cell_type": "code",
   "execution_count": null,
   "id": "8912e997-9393-421c-afdc-8ef282495ca5",
   "metadata": {},
   "outputs": [],
   "source": []
  },
  {
   "cell_type": "code",
   "execution_count": null,
   "id": "4d52d2a5-8136-4031-b684-b7cb4c91d320",
   "metadata": {},
   "outputs": [],
   "source": [
    "print('c= ', c)\n",
    "print('b= ', b)\n",
    "print('a= ', a)\n",
    "print('---------')\n",
    "print('p= ', p)\n",
    "print('q= ', q)\n",
    "print('x= ', x)"
   ]
  },
  {
   "cell_type": "code",
   "execution_count": 7,
   "id": "97b1f65b-678f-48d7-8ad0-b3eaf1a4539e",
   "metadata": {},
   "outputs": [],
   "source": [
    "def generate_mas(len):\n",
    "    \n",
    "    \"\"\"\n",
    "    les - is size of matrix\n",
    "    k - global parameter, equals index of column in matrix\n",
    "    \"\"\"\n",
    "    \n",
    "    low = 1\n",
    "    high = 20\n",
    "    \n",
    "    c = [random.randint(low, high) for i in range(len-1)]\n",
    "    \n",
    "    b = [random.randint(low, high) for i in range(len)]\n",
    "\n",
    "    a = [random.randint(low, high) for i in range(len-1)]\n",
    "\n",
    "    p = [random.randint(low, high) for i in range(len)]\n",
    "\n",
    "    q = [random.randint(low, high) for i in range(len)]\n",
    "\n",
    "    x = [random.randint(5, 10) for i in range(len)]\n",
    "    \n",
    "    #synchronization\n",
    "    \n",
    "    \n",
    "    # if matrix is 2n * 2n\n",
    "    if len % 2 == 0:\n",
    "        center_left_ind = len // 2 - 1\n",
    "        if k < len - 1:\n",
    "            if k >= center_left_ind:\n",
    "                temp = -2 * (k - center_left_ind)\n",
    "                #print(temp)\n",
    "                p[k + temp]     = c[k + temp]\n",
    "                p[k + 1 + temp] = b[k + 1 + temp]\n",
    "                p[k + 2 + temp] = a[k + 1 + temp]\n",
    "        \n",
    "                if k == len - 2:\n",
    "                    q[k + temp]     = b[k + temp]\n",
    "                    q[k + 1 + temp] = a[k + temp]\n",
    "                else: \n",
    "                    q[k - 1 + temp] = c[k - 1 + temp]\n",
    "                    q[k + temp]     = b[k + temp]\n",
    "                    q[k + 1 + temp] = a[k + temp]\n",
    "        else:\n",
    "            print(\"Error: index out of range\")\n",
    "\n",
    "        if k >= 0:\n",
    "            if k < center_left_ind:\n",
    "                temp = -2 * (k - center_left_ind)\n",
    "                if k == 0:\n",
    "                    p[k + temp]     = c[k + temp]\n",
    "                    p[k + 1 + temp] = b[k + 1 + temp]\n",
    "                else:\n",
    "                    p[k + temp]     = c[k + temp]\n",
    "                    p[k + 1 + temp] = b[k + 1 + temp]\n",
    "                    p[k + 2 + temp] = a[k + 1 + temp]\n",
    "                        \n",
    "                q[k - 1 + temp] = c[k - 1 + temp]\n",
    "                q[k + temp]     = b[k + temp]\n",
    "                q[k + 1 + temp] = a[k + temp]\n",
    "        else:\n",
    "            print('err')\n",
    "\n",
    "#------------------------------------------------------------------------------------------------------------------------------\n",
    "    # if matrix is (2n+1) * (2n+1)\n",
    "    else:\n",
    "        center_left_ind = len // 2 \n",
    "        if k < len - 1:\n",
    "            if k >= center_left_ind:\n",
    "                temp = -2 * (k - center_left_ind)\n",
    "                p[k - 1 + temp] = c[k - 1 + temp]\n",
    "                p[k + temp]     = b[k + temp]\n",
    "                p[k + 1 + temp] = a[k + temp]\n",
    "                \n",
    "                if k == len - 2:\n",
    "                    q[k - 1 + temp] = b[k - 1 + temp]\n",
    "                    q[k + temp]     = a[k - 1 + temp]\n",
    "                else: \n",
    "                    q[k - 2 + temp] = c[k - 2 + temp]\n",
    "                    q[k - 1 + temp] = b[k - 1 + temp]\n",
    "                    q[k + temp]     = a[k - 1 + temp]\n",
    "        else:\n",
    "            print(\"Error: index out of range\")\n",
    "            \n",
    "        if k >= 0:\n",
    "            if k < center_left_ind:\n",
    "                temp = -2 * (k - center_left_ind)\n",
    "                if k == 0:\n",
    "                    p[k - 1 + temp] = c[k - 1 + temp]\n",
    "                    p[k + temp]     = b[k + temp]\n",
    "                else:\n",
    "                    p[k - 1 + temp] = c[k - 1 + temp]\n",
    "                    p[k + temp]     = b[k + temp]\n",
    "                    p[k + 1 + temp] = a[k + temp]\n",
    "                        \n",
    "                q[k - 2 + temp] = c[k - 2 + temp]\n",
    "                q[k - 1 + temp] = b[k - 1 + temp]\n",
    "                q[k + temp]     = a[k - 1 + temp]\n",
    "        else:\n",
    "            print('err')\n",
    "\n",
    "    return c, b, a, p, q, x"
   ]
  },
  {
   "cell_type": "code",
   "execution_count": 71,
   "id": "f5a880b0-058b-428d-9e8c-6c7f7d97be04",
   "metadata": {},
   "outputs": [
    {
     "name": "stdout",
     "output_type": "stream",
     "text": [
      "c=  [17, 16, 3, 11, 10, 8, 19, 6, 5, 13, 9, 12]\n",
      "b=  [14, 20, 4, 13, 20, 3, 20, 15, 5, 4, 11, 19, 12]\n",
      "a=  [16, 9, 19, 7, 1, 17, 12, 4, 2, 6, 13, 2]\n",
      "---------\n",
      "p=  [17, 8, 20, 16, 1, 8, 20, 12, 20, 13, 7, 16, 12]\n",
      "q=  [5, 6, 20, 16, 10, 3, 17, 18, 20, 10, 20, 3, 3]\n",
      "x=  [8, 8, 5, 10, 10, 10, 9, 7, 8, 8, 10, 7, 9]\n"
     ]
    }
   ],
   "source": [
    "k = 6\n",
    "c, b, a, p, q, x = generate_mas(13)\n",
    "\n",
    "print('c= ', c)\n",
    "print('b= ', b)\n",
    "print('a= ', a)\n",
    "print('---------')\n",
    "print('p= ', p)\n",
    "print('q= ', q)\n",
    "print('x= ', x)"
   ]
  },
  {
   "cell_type": "code",
   "execution_count": 73,
   "id": "bf664b8a-aed5-4d3a-959d-b0f0cf416b84",
   "metadata": {},
   "outputs": [
    {
     "name": "stdout",
     "output_type": "stream",
     "text": [
      "    0   1   2   3   4   5   6   7   8   9   10  11  12\n",
      "0    0   0   0   0   0   0  17   5   0   0   0  17  14\n",
      "1    0   0   0   0   0   0   8   6   0   0  16  20  16\n",
      "2    0   0   0   0   0   0  20  20   0   3   4   9   0\n",
      "3    0   0   0   0   0   0  16  16  11  13  19   0   0\n",
      "4    0   0   0   0   0   0   1  10  20   7   0   0   0\n",
      "5    0   0   0   0   0   0   8   3   1   0   0   0   0\n",
      "6    0   0   0   0   0  19  20  17   0   0   0   0   0\n",
      "7    0   0   0   0   6  15  12  18   0   0   0   0   0\n",
      "8    0   0   0   5   5   4  20  20   0   0   0   0   0\n",
      "9    0   0  13   4   2   0  13  10   0   0   0   0   0\n",
      "10   0   9  11   6   0   0   7  20   0   0   0   0   0\n",
      "11  12  19  13   0   0   0  16   3   0   0   0   0   0\n",
      "12  12   2   0   0   0   0  12   3   0   0   0   0   0\n"
     ]
    }
   ],
   "source": [
    "\n",
    "print_matrix(c, b, a, p, q, k)"
   ]
  },
  {
   "cell_type": "code",
   "execution_count": null,
   "id": "eed59767-fde1-422a-9555-ebf8306b847b",
   "metadata": {},
   "outputs": [],
   "source": []
  },
  {
   "cell_type": "code",
   "execution_count": null,
   "id": "324d9f11-1feb-43a2-a30d-4b9df67971a0",
   "metadata": {},
   "outputs": [],
   "source": []
  }
 ],
 "metadata": {
  "kernelspec": {
   "display_name": "Python 3 (ipykernel)",
   "language": "python",
   "name": "python3"
  },
  "language_info": {
   "codemirror_mode": {
    "name": "ipython",
    "version": 3
   },
   "file_extension": ".py",
   "mimetype": "text/x-python",
   "name": "python",
   "nbconvert_exporter": "python",
   "pygments_lexer": "ipython3",
   "version": "3.9.12"
  }
 },
 "nbformat": 4,
 "nbformat_minor": 5
}
